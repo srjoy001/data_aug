{
 "cells": [
  {
   "cell_type": "code",
   "execution_count": 1,
   "id": "6285ba69",
   "metadata": {},
   "outputs": [],
   "source": [
    "import math\n",
    "import os\n",
    "import tensorflow as tf\n",
    "from tensorflow.keras.preprocessing.image import ImageDataGenerator\n",
    "import cv2\n",
    "import numpy as np"
   ]
  },
  {
   "cell_type": "code",
   "execution_count": null,
   "id": "5f1a2ac8",
   "metadata": {},
   "outputs": [],
   "source": [
    "!pip install gdown"
   ]
  },
  {
   "cell_type": "code",
   "execution_count": 5,
   "id": "2c03ba67",
   "metadata": {},
   "outputs": [
    {
     "name": "stdout",
     "output_type": "stream",
     "text": [
      "Collecting unzip\n",
      "  Downloading unzip-1.0.0.tar.gz (704 bytes)\n",
      "  Preparing metadata (setup.py): started\n",
      "  Preparing metadata (setup.py): finished with status 'done'\n",
      "Building wheels for collected packages: unzip\n",
      "  Building wheel for unzip (setup.py): started\n",
      "  Building wheel for unzip (setup.py): finished with status 'done'\n",
      "  Created wheel for unzip: filename=unzip-1.0.0-py3-none-any.whl size=1287 sha256=5b94713cd78f2cbdc8cdc907a85a27e27dea4134124b0e68764ef37a94012013\n",
      "  Stored in directory: c:\\users\\sr joy\\appdata\\local\\pip\\cache\\wheels\\c5\\05\\b3\\f7b36dbaaf76de31b718cde792c953bfd11d2414a72f204b56\n",
      "Successfully built unzip\n",
      "Installing collected packages: unzip\n",
      "Successfully installed unzip-1.0.0\n"
     ]
    }
   ],
   "source": [
    "!pip install unzip"
   ]
  },
  {
   "cell_type": "code",
   "execution_count": 3,
   "id": "e72f91f1",
   "metadata": {},
   "outputs": [
    {
     "name": "stderr",
     "output_type": "stream",
     "text": [
      "Downloading...\n",
      "From (uriginal): https://drive.google.com/uc?id=13Twl0Px1BmMQW3QcmftFCabQg1U8cVTo\n",
      "From (redirected): https://drive.google.com/uc?id=13Twl0Px1BmMQW3QcmftFCabQg1U8cVTo&confirm=t&uuid=3c2d12e6-163e-4cb7-9086-93a84183ed6f\n",
      "To: D:\\Research\\Notebook\\data.zip\n",
      "100%|████████████████████████████████████████████████████████████████████████████████| 228M/228M [06:14<00:00, 609kB/s]\n"
     ]
    },
    {
     "data": {
      "text/plain": [
       "'data.zip'"
      ]
     },
     "execution_count": 3,
     "metadata": {},
     "output_type": "execute_result"
    }
   ],
   "source": [
    "import gdown\n",
    "url = 'https://drive.google.com/uc?id=13Twl0Px1BmMQW3QcmftFCabQg1U8cVTo'\n",
    "output = 'data.zip'\n",
    "gdown.download(url, output, quiet=False)"
   ]
  },
  {
   "cell_type": "code",
   "execution_count": 10,
   "id": "69a9d372",
   "metadata": {},
   "outputs": [
    {
     "name": "stderr",
     "output_type": "stream",
     "text": [
      "'unzip' is not recognized as an internal or external command,\n",
      "operable program or batch file.\n"
     ]
    }
   ],
   "source": [
    "!unzip -qq data.zip"
   ]
  }
 ],
 "metadata": {
  "kernelspec": {
   "display_name": "Python 3 (ipykernel)",
   "language": "python",
   "name": "python3"
  },
  "language_info": {
   "codemirror_mode": {
    "name": "ipython",
    "version": 3
   },
   "file_extension": ".py",
   "mimetype": "text/x-python",
   "name": "python",
   "nbconvert_exporter": "python",
   "pygments_lexer": "ipython3",
   "version": "3.7.0"
  }
 },
 "nbformat": 4,
 "nbformat_minor": 5
}
